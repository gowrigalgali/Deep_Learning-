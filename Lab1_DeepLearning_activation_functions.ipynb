{
 "cells": [
  {
   "cell_type": "code",
   "execution_count": 1,
   "metadata": {},
   "outputs": [
    {
     "name": "stdout",
     "output_type": "stream",
     "text": [
      "0.2689414213699951\n"
     ]
    }
   ],
   "source": [
    "import math\n",
    "\n",
    "def sigmoid_fun(x):\n",
    "    s=1/(1+math.exp(-x))\n",
    "    return s\n",
    "val=sigmoid_fun(-1)\n",
    "print(val)"
   ]
  },
  {
   "cell_type": "code",
   "execution_count": 2,
   "metadata": {},
   "outputs": [
    {
     "name": "stdout",
     "output_type": "stream",
     "text": [
      "[ 2.71828183  7.3890561  20.08553692]\n"
     ]
    }
   ],
   "source": [
    "import numpy as np\n",
    "arr=[1,2,3]\n",
    "x= np.array(arr)\n",
    "print(np.exp(x))"
   ]
  },
  {
   "cell_type": "code",
   "execution_count": 3,
   "metadata": {},
   "outputs": [
    {
     "name": "stdout",
     "output_type": "stream",
     "text": [
      "[4 5 6]\n"
     ]
    }
   ],
   "source": [
    "#elementary functions are implemented to check if the operations are done right or not\n",
    "print(x+3)"
   ]
  },
  {
   "cell_type": "code",
   "execution_count": 4,
   "metadata": {},
   "outputs": [
    {
     "name": "stdout",
     "output_type": "stream",
     "text": [
      "[0.19661193 0.10499359 0.04517666]\n"
     ]
    }
   ],
   "source": [
    "def sigmoid_fun_np(x):\n",
    "    s=1/(1+np.exp(-x))\n",
    "    grad=s*(1-s)\n",
    "    return grad\n",
    "val=sigmoid_fun_np(x)\n",
    "print(val)"
   ]
  },
  {
   "cell_type": "code",
   "execution_count": 5,
   "metadata": {},
   "outputs": [
    {
     "name": "stdout",
     "output_type": "stream",
     "text": [
      "[[[1.78013947 1.7094252 ]\n",
      "  [1.2663808  1.31121303]\n",
      "  [1.41391543 1.13881251]]\n",
      "\n",
      " [[1.31094844 1.56374977]\n",
      "  [1.00108402 1.27506591]\n",
      "  [1.25986558 1.66151941]]\n",
      "\n",
      " [[1.54499868 1.51025605]\n",
      "  [1.27823094 1.74926522]\n",
      "  [1.83309091 1.28856163]]]\n"
     ]
    }
   ],
   "source": [
    "import random\n",
    "#flattening of an image (length*height*3,1)\n",
    "image=np.random.uniform(2, size=(3,3,2)) \n",
    "print(image)"
   ]
  },
  {
   "cell_type": "code",
   "execution_count": 6,
   "metadata": {},
   "outputs": [
    {
     "name": "stdout",
     "output_type": "stream",
     "text": [
      "[[1.78013947]\n",
      " [1.7094252 ]\n",
      " [1.2663808 ]\n",
      " [1.31121303]\n",
      " [1.41391543]\n",
      " [1.13881251]\n",
      " [1.31094844]\n",
      " [1.56374977]\n",
      " [1.00108402]\n",
      " [1.27506591]\n",
      " [1.25986558]\n",
      " [1.66151941]\n",
      " [1.54499868]\n",
      " [1.51025605]\n",
      " [1.27823094]\n",
      " [1.74926522]\n",
      " [1.83309091]\n",
      " [1.28856163]]\n"
     ]
    }
   ],
   "source": [
    "#reshaping of the image\n",
    "image_reshaped=image.reshape(3*2*3,1)\n",
    "print(image_reshaped)"
   ]
  },
  {
   "cell_type": "code",
   "execution_count": 8,
   "metadata": {},
   "outputs": [
    {
     "name": "stdout",
     "output_type": "stream",
     "text": [
      "[[0.         0.999992   0.00399997]\n",
      " [0.26726124 0.80178373 0.53452248]]\n"
     ]
    }
   ],
   "source": [
    "def normalize(x):\n",
    "    norm=np.linalg.norm(x,axis=1,keepdims=True)\n",
    "    l=x/norm\n",
    "    return l\n",
    "\n",
    "a=[0,1000,4],[2,6,4]\n",
    "array=np.array(a)\n",
    "val=normalize(a)\n",
    "print(val)\n"
   ]
  },
  {
   "cell_type": "code",
   "execution_count": 19,
   "metadata": {},
   "outputs": [
    {
     "data": {
      "text/plain": [
       "array([[9.80897665e-01, 8.94462891e-04, 1.79657674e-02, 1.21052389e-04,\n",
       "        1.21052389e-04],\n",
       "       [8.78679856e-01, 1.18916387e-01, 8.01252314e-04, 8.01252314e-04,\n",
       "        8.01252314e-04]])"
      ]
     },
     "execution_count": 19,
     "metadata": {},
     "output_type": "execute_result"
    }
   ],
   "source": [
    "def softmax(x):\n",
    "    x_exp = np.exp(x)\n",
    "    \n",
    "    x_sum = np.sum(x_exp, axis = 1, keepdims = True)\n",
    "    \n",
    "    x = x_exp/x_sum\n",
    "    \n",
    "    return x\n",
    "\n",
    "img_input = np.array([[9,2,5,0,0],\n",
    "                [7,5,0,0,0]])\n",
    "img_input = softmax(img_input)\n",
    "img_input"
   ]
  },
  {
   "cell_type": "code",
   "execution_count": 24,
   "metadata": {},
   "outputs": [
    {
     "name": "stdout",
     "output_type": "stream",
     "text": [
      "dot = 250330.90500746598\n",
      "Computation Time:62.5ms\n"
     ]
    }
   ],
   "source": [
    "import time\n",
    "s1=np.random.rand(1000000)\n",
    "s2=np.random.rand(1000000)\n",
    "\n",
    "tic=time.process_time()\n",
    "dot=0\n",
    "for i in range(len(s1)):\n",
    "    dot+=s1[i]*s2[i]\n",
    "    \n",
    "toc=time.process_time()\n",
    "print(\"dot = \"+str(dot)+\"\\nComputation Time:\" + str(1000*(toc-tic))+\"ms\")"
   ]
  },
  {
   "cell_type": "code",
   "execution_count": 25,
   "metadata": {},
   "outputs": [
    {
     "name": "stdout",
     "output_type": "stream",
     "text": [
      "dot = 500470.0391457319\n",
      "Computation Time:109.375ms\n"
     ]
    }
   ],
   "source": [
    "import time\n",
    "s1=np.random.rand(1000000)\n",
    "s2=np.random.rand(1000000)\n",
    "\n",
    "tic=time.process_time()\n",
    "np.dot(s1, s2)\n",
    "for i in range(len(s1)):\n",
    "    dot+=s1[i]*s2[i]\n",
    "    \n",
    "toc=time.process_time()\n",
    "print(\"dot = \"+str(dot)+\"\\nComputation Time:\" + str(1000*(toc-tic))+\"ms\")"
   ]
  }
 ],
 "metadata": {
  "kernelspec": {
   "display_name": "Python 3",
   "language": "python",
   "name": "python3"
  },
  "language_info": {
   "codemirror_mode": {
    "name": "ipython",
    "version": 3
   },
   "file_extension": ".py",
   "mimetype": "text/x-python",
   "name": "python",
   "nbconvert_exporter": "python",
   "pygments_lexer": "ipython3",
   "version": "3.11.1"
  }
 },
 "nbformat": 4,
 "nbformat_minor": 2
}
